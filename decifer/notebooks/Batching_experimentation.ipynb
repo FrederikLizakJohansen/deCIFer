{
 "cells": [
  {
   "cell_type": "code",
   "execution_count": 9,
   "id": "5d04bf8d",
   "metadata": {},
   "outputs": [],
   "source": [
    "from decifer import (\n",
    "    HDF5Dataset,\n",
    "    Tokenizer,\n",
    "    UnconditionedDecifer,\n",
    "    DeciferConfig,\n",
    "    extract_prompt,\n",
    "    load_model_from_checkpoint,\n",
    "    replace_symmetry_loop_with_P1,\n",
    "    extract_space_group_symbol,\n",
    "    reinstate_symmetry_loop,\n",
    ")"
   ]
  },
  {
   "cell_type": "code",
   "execution_count": 10,
   "id": "24da4d10",
   "metadata": {},
   "outputs": [
    {
     "name": "stdout",
     "output_type": "stream",
     "text": [
      "number of total parameters: 25.36M\n"
     ]
    },
    {
     "data": {
      "application/vnd.jupyter.widget-view+json": {
       "model_id": "",
       "version_major": 2,
       "version_minor": 0
      },
      "text/plain": [
       "Processing datasets:   0%|          | 0/1 [00:00<?, ?it/s]"
      ]
     },
     "metadata": {},
     "output_type": "display_data"
    }
   ],
   "source": [
    "#model = UnconditionedDecifer(DeciferConfig())\n",
    "device = 'cuda'\n",
    "model = load_model_from_checkpoint('../uncon_trained_models/small_crystal500k/ckpt.pt', device)\n",
    "model.to(device)\n",
    "model.eval()\n",
    "model.device = 'cuda'\n",
    "dataset = HDF5Dataset('../data/crystallm/1k/hdf5/test_dataset.h5', data_to_load=['cif_tokenized'], block_size=10000)"
   ]
  },
  {
   "cell_type": "code",
   "execution_count": 37,
   "id": "1e07ad7b",
   "metadata": {},
   "outputs": [
    {
     "data": {
      "text/plain": [
       "UnconditionedDecifer(\n",
       "  (transformer): ModuleDict(\n",
       "    (wte): Embedding(372, 512)\n",
       "    (wpe): Embedding(2048, 512)\n",
       "    (drop): Dropout(p=0.1, inplace=False)\n",
       "    (h): ModuleList(\n",
       "      (0-7): 8 x Block(\n",
       "        (ln_1): LayerNorm()\n",
       "        (attn): CausalSelfAttention(\n",
       "          (c_attn): Linear(in_features=512, out_features=1536, bias=False)\n",
       "          (c_proj): Linear(in_features=512, out_features=512, bias=False)\n",
       "          (attn_dropout): Dropout(p=0.1, inplace=False)\n",
       "          (resid_dropout): Dropout(p=0.1, inplace=False)\n",
       "        )\n",
       "        (ln_2): LayerNorm()\n",
       "        (mlp): MLP(\n",
       "          (c_fc): Linear(in_features=512, out_features=2048, bias=False)\n",
       "          (c_proj): Linear(in_features=2048, out_features=512, bias=False)\n",
       "          (dropout): Dropout(p=0.1, inplace=False)\n",
       "        )\n",
       "      )\n",
       "    )\n",
       "    (ln_f): LayerNorm()\n",
       "  )\n",
       "  (lm_head): Linear(in_features=512, out_features=372, bias=False)\n",
       ")"
      ]
     },
     "execution_count": 37,
     "metadata": {},
     "output_type": "execute_result"
    }
   ],
   "source": [
    "model"
   ]
  },
  {
   "cell_type": "code",
   "execution_count": 34,
   "id": "117bf05c",
   "metadata": {},
   "outputs": [],
   "source": [
    "from time import time \n",
    "\n",
    "debug_max = 1\n",
    "batch_size = 16\n",
    "max_new_tokens = 500"
   ]
  },
  {
   "cell_type": "code",
   "execution_count": 35,
   "id": "eb5c95c8",
   "metadata": {},
   "outputs": [
    {
     "data": {
      "application/vnd.jupyter.widget-view+json": {
       "model_id": "926aa4879813493f9b6be0b8fca6aa05",
       "version_major": 2,
       "version_minor": 0
      },
      "text/plain": [
       "Generating sequence:   0%|          | 0/500 [00:00<?, ?it/s]"
      ]
     },
     "metadata": {},
     "output_type": "display_data"
    },
    {
     "name": "stdout",
     "output_type": "stream",
     "text": [
      "9.310415267944336\n"
     ]
    }
   ],
   "source": [
    "start = time()\n",
    "for i, sample in enumerate(dataset):\n",
    "    if debug_max and (i+1) > debug_max:\n",
    "        break\n",
    "        \n",
    "    prompt = extract_prompt(\n",
    "        sample[0],\n",
    "        model.device,\n",
    "        add_composition=True,\n",
    "        add_spacegroup=True\n",
    "    ).unsqueeze(0)\n",
    "    \n",
    "    if prompt is not None:\n",
    "        prompt = prompt.repeat(batch_size,1)\n",
    "        ids = model.generate_batched_reps(prompt, max_new_tokens=max_new_tokens, disable_pbar=False)\n",
    "#         print(ids)\n",
    "print(time() - start)"
   ]
  },
  {
   "cell_type": "code",
   "execution_count": 36,
   "id": "8214f06f",
   "metadata": {},
   "outputs": [
    {
     "data": {
      "application/vnd.jupyter.widget-view+json": {
       "model_id": "984ffab343164cfe80d3d2fcb1f40386",
       "version_major": 2,
       "version_minor": 0
      },
      "text/plain": [
       "Generating sequence:   0%|          | 0/500 [00:00<?, ?it/s]"
      ]
     },
     "metadata": {},
     "output_type": "display_data"
    },
    {
     "data": {
      "application/vnd.jupyter.widget-view+json": {
       "model_id": "2fd4feaefb3441f3ad9560c4be79ebfc",
       "version_major": 2,
       "version_minor": 0
      },
      "text/plain": [
       "Generating sequence:   0%|          | 0/500 [00:00<?, ?it/s]"
      ]
     },
     "metadata": {},
     "output_type": "display_data"
    },
    {
     "data": {
      "application/vnd.jupyter.widget-view+json": {
       "model_id": "d489624dd04b4210a2bb327dac3a3458",
       "version_major": 2,
       "version_minor": 0
      },
      "text/plain": [
       "Generating sequence:   0%|          | 0/500 [00:00<?, ?it/s]"
      ]
     },
     "metadata": {},
     "output_type": "display_data"
    },
    {
     "data": {
      "application/vnd.jupyter.widget-view+json": {
       "model_id": "427d3b07358b403299ac80bc27578ea3",
       "version_major": 2,
       "version_minor": 0
      },
      "text/plain": [
       "Generating sequence:   0%|          | 0/500 [00:00<?, ?it/s]"
      ]
     },
     "metadata": {},
     "output_type": "display_data"
    },
    {
     "data": {
      "application/vnd.jupyter.widget-view+json": {
       "model_id": "6fef512877474181992f22a7053bc5f5",
       "version_major": 2,
       "version_minor": 0
      },
      "text/plain": [
       "Generating sequence:   0%|          | 0/500 [00:00<?, ?it/s]"
      ]
     },
     "metadata": {},
     "output_type": "display_data"
    },
    {
     "data": {
      "application/vnd.jupyter.widget-view+json": {
       "model_id": "5693817a6f4d4f0684298fbe28e3fe85",
       "version_major": 2,
       "version_minor": 0
      },
      "text/plain": [
       "Generating sequence:   0%|          | 0/500 [00:00<?, ?it/s]"
      ]
     },
     "metadata": {},
     "output_type": "display_data"
    },
    {
     "data": {
      "application/vnd.jupyter.widget-view+json": {
       "model_id": "1781cf4e5d6b4bf89e12725442432da0",
       "version_major": 2,
       "version_minor": 0
      },
      "text/plain": [
       "Generating sequence:   0%|          | 0/500 [00:00<?, ?it/s]"
      ]
     },
     "metadata": {},
     "output_type": "display_data"
    },
    {
     "data": {
      "application/vnd.jupyter.widget-view+json": {
       "model_id": "a0b061d0c93942cba40e479fa9de3507",
       "version_major": 2,
       "version_minor": 0
      },
      "text/plain": [
       "Generating sequence:   0%|          | 0/500 [00:00<?, ?it/s]"
      ]
     },
     "metadata": {},
     "output_type": "display_data"
    },
    {
     "data": {
      "application/vnd.jupyter.widget-view+json": {
       "model_id": "668baf3407b249b8a248b50a20ce94e2",
       "version_major": 2,
       "version_minor": 0
      },
      "text/plain": [
       "Generating sequence:   0%|          | 0/500 [00:00<?, ?it/s]"
      ]
     },
     "metadata": {},
     "output_type": "display_data"
    },
    {
     "data": {
      "application/vnd.jupyter.widget-view+json": {
       "model_id": "8712728e351b4f35b0363f05fa003b12",
       "version_major": 2,
       "version_minor": 0
      },
      "text/plain": [
       "Generating sequence:   0%|          | 0/500 [00:00<?, ?it/s]"
      ]
     },
     "metadata": {},
     "output_type": "display_data"
    },
    {
     "data": {
      "application/vnd.jupyter.widget-view+json": {
       "model_id": "a0214705a11a4f51aaddee6d56dc4e6a",
       "version_major": 2,
       "version_minor": 0
      },
      "text/plain": [
       "Generating sequence:   0%|          | 0/500 [00:00<?, ?it/s]"
      ]
     },
     "metadata": {},
     "output_type": "display_data"
    },
    {
     "data": {
      "application/vnd.jupyter.widget-view+json": {
       "model_id": "c55328833bd14fe0909b88fbbad70234",
       "version_major": 2,
       "version_minor": 0
      },
      "text/plain": [
       "Generating sequence:   0%|          | 0/500 [00:00<?, ?it/s]"
      ]
     },
     "metadata": {},
     "output_type": "display_data"
    },
    {
     "data": {
      "application/vnd.jupyter.widget-view+json": {
       "model_id": "2588a1bbb840488c8a4c4f6e3a64282e",
       "version_major": 2,
       "version_minor": 0
      },
      "text/plain": [
       "Generating sequence:   0%|          | 0/500 [00:00<?, ?it/s]"
      ]
     },
     "metadata": {},
     "output_type": "display_data"
    },
    {
     "data": {
      "application/vnd.jupyter.widget-view+json": {
       "model_id": "f62ea99f40084e5785333b6bd187aa0d",
       "version_major": 2,
       "version_minor": 0
      },
      "text/plain": [
       "Generating sequence:   0%|          | 0/500 [00:00<?, ?it/s]"
      ]
     },
     "metadata": {},
     "output_type": "display_data"
    },
    {
     "data": {
      "application/vnd.jupyter.widget-view+json": {
       "model_id": "44b54b83a2bd408c8af9dfe8be0772a2",
       "version_major": 2,
       "version_minor": 0
      },
      "text/plain": [
       "Generating sequence:   0%|          | 0/500 [00:00<?, ?it/s]"
      ]
     },
     "metadata": {},
     "output_type": "display_data"
    },
    {
     "data": {
      "application/vnd.jupyter.widget-view+json": {
       "model_id": "bfb69600e68a424d8650682f241e23d8",
       "version_major": 2,
       "version_minor": 0
      },
      "text/plain": [
       "Generating sequence:   0%|          | 0/500 [00:00<?, ?it/s]"
      ]
     },
     "metadata": {},
     "output_type": "display_data"
    },
    {
     "name": "stdout",
     "output_type": "stream",
     "text": [
      "16.865593194961548\n"
     ]
    }
   ],
   "source": [
    "start = time()\n",
    "for i, sample in enumerate(dataset):\n",
    "    if debug_max and (i+1) > debug_max:\n",
    "        break\n",
    "        \n",
    "    prompt = extract_prompt(\n",
    "        sample[0],\n",
    "        model.device,\n",
    "        add_composition=True,\n",
    "        add_spacegroup=True\n",
    "    ).unsqueeze(0)\n",
    "    \n",
    "    if prompt is not None:\n",
    "        for j in range(batch_size):\n",
    "            ids = model.generate(prompt, max_new_tokens=max_new_tokens, disable_pbar=False)\n",
    "print(time() - start)"
   ]
  },
  {
   "cell_type": "code",
   "execution_count": 24,
   "id": "472fc035",
   "metadata": {},
   "outputs": [],
   "source": [
    "tok = Tokenizer()\n",
    "decode = tok.decode\n",
    "cifs = [decode(i[i != tok.padding_id].cpu().numpy()) for i in ids]"
   ]
  },
  {
   "cell_type": "code",
   "execution_count": 25,
   "id": "a1107048",
   "metadata": {},
   "outputs": [],
   "source": [
    "from pymatgen.io.cif import Structure, CifParser\n",
    "from pymatgen.analysis.diffraction.xrd import XRDCalculator\n",
    "import matplotlib.pyplot as plt"
   ]
  },
  {
   "cell_type": "code",
   "execution_count": 29,
   "id": "cf6e10c3",
   "metadata": {
    "scrolled": false
   },
   "outputs": [
    {
     "data": {
      "image/png": "[encoded data removed]",
      "text/plain": [
       "<Figure size 1200x600 with 1 Axes>"
      ]
     },
     "metadata": {},
     "output_type": "display_data"
    }
   ],
   "source": [
    "fig, ax = plt.subplots(figsize=(12,6))\n",
    "new_cifs = []\n",
    "for i,cif in enumerate(cifs):\n",
    "    \n",
    "    # Reinstate\n",
    "    try:\n",
    "        cif = replace_symmetry_loop_with_P1(cif)\n",
    "        spacegroup_symbol = extract_space_group_symbol(cif)\n",
    "        if spacegroup_symbol != \"P 1\":\n",
    "            cif = reinstate_symmetry_loop(cif, spacegroup_symbol)\n",
    "\n",
    "        new_cifs.append(cif)\n",
    "\n",
    "        struct = CifParser.from_str(cif).get_structures()[0]\n",
    "        \n",
    "        # Init calculator object\n",
    "        xrd_calc = XRDCalculator()\n",
    "\n",
    "        # Get XRD pattern\n",
    "        xrd_pattern = xrd_calc.get_pattern(struct)\n",
    "        \n",
    "        ax.bar(xrd_pattern.x, xrd_pattern.y, width=0.2, label=f'{i}')\n",
    "    except Exception as e:\n",
    "#         raise e\n",
    "        continue\n",
    "ax.legend()\n",
    "plt.show()"
   ]
  },
  {
   "cell_type": "code",
   "execution_count": 30,
   "id": "5632514a",
   "metadata": {
    "scrolled": false
   },
   "outputs": [
    {
     "name": "stdout",
     "output_type": "stream",
     "text": [
      "data_Li4Er8Ga4\n",
      "_symmetry_space_group_name_H-M Fm-3m\n",
      "_cell_length_a 6.4703\n",
      "_cell_length_b 6.4703\n",
      "_cell_length_c 6.4703\n",
      "_cell_angle_alpha 90.0000\n",
      "_cell_angle_beta 90.0000\n",
      "_cell_angle_gamma 90.0000\n",
      "_symmetry_Int_Tables_number 225\n",
      "_chemical_formula_structural LiEr2Ga\n",
      "_chemical_formula_sum 'Li4 Er8 Ga4'\n",
      "_cell_volume 255.3348\n",
      "_cell_formula_units_Z 4\n",
      "loop_\n",
      "_symmetry_equiv_pos_site_id\n",
      "_symmetry_equiv_pos_as_xyz\n",
      "1 'x, y, z'\n",
      "loop_\n",
      "_atom_site_type_symbol\n",
      "_atom_site_label\n",
      "_atom_site_symmetry_multiplicity\n",
      "_atom_site_fract_x\n",
      "_atom_site_fract_y\n",
      "_atom_site_fract_z\n",
      "_atom_site_occupancy\n",
      "Li Li0 4 0.0000 0.0000 0.0000 1.0000\n",
      "Er Er1 8 0.2500 0.2500 0.2500 1.0000\n",
      "Ga Ga2 4 0.0000 0.0000 0.5000 1.0000\n",
      "\n",
      "data_Li4Er8Ga4\n",
      "_symmetry_space_group_name_H-M Fm-3m\n",
      "_cell_length_a 6.1820\n",
      "_cell_length_b 6.1820\n",
      "_cell_length_c 6.1820\n",
      "_cell_angle_alpha 90.0000\n",
      "_cell_angle_beta 90.0000\n",
      "_cell_angle_gamma 90.0000\n",
      "_symmetry_Int_Tables_number 225\n",
      "_chemical_formula_structural LiEr2Ga\n",
      "_chemical_formula_sum 'Li4 Er8 Ga4'\n",
      "_cell_volume 229.7921\n",
      "_cell_formula_units_Z 4\n",
      "loop_\n",
      "_symmetry_equiv_pos_site_id\n",
      "_symmetry_equiv_pos_as_xyz\n",
      "1 'x, y, z'\n",
      "loop_\n",
      "_atom_site_type_symbol\n",
      "_atom_site_label\n",
      "_atom_site_symmetry_multiplicity\n",
      "_atom_site_fract_x\n",
      "_atom_site_fract_y\n",
      "_atom_site_fract_z\n",
      "_atom_site_occupancy\n",
      "Li Li0 4 0.0000 0.0000 0.5000 1.0000\n",
      "Er Er1 8 0.2500 0.2500 0.2500 1.0000\n",
      "Ga Ga2 4 0.0000 0.0000 0.0000 1.0000\n",
      "\n",
      "data_Li4Er8Ga4\n",
      "_symmetry_space_group_name_H-M Fm-3m\n",
      "_cell_length_a 6.8511\n",
      "_cell_length_b 6.8511\n",
      "_cell_length_c 6.8511\n",
      "_cell_angle_alpha 90.0000\n",
      "_cell_angle_beta 90.0000\n",
      "_cell_angle_gamma 90.0000\n",
      "_symmetry_Int_Tables_number 225\n",
      "_chemical_formula_structural LiEr2Ga\n",
      "_chemical_formula_sum 'Li4 Er8 Ga4'\n",
      "_cell_volume 375.3774\n",
      "_cell_formula_units_Z 4\n",
      "loop_\n",
      "_symmetry_equiv_pos_site_id\n",
      "_symmetry_equiv_pos_as_xyz\n",
      "1 'x, y, z'\n",
      "loop_\n",
      "_atom_site_type_symbol\n",
      "_atom_site_label\n",
      "_atom_site_symmetry_multiplicity\n",
      "_atom_site_fract_x\n",
      "_atom_site_fract_y\n",
      "_atom_site_fract_z\n",
      "_atom_site_occupancy\n",
      "Li Li0 4 0.0000 0.0000 0.5000 1.0000\n",
      "Er Er1 8 0.2500 0.2500 0.2500 1.0000\n",
      "Ga Ga2 4 0.0000 0.0000 0.0000 1.0000\n",
      "\n",
      "data_Li4Er8Ga4\n",
      "_symmetry_space_group_name_H-M Fm-3m\n",
      "_cell_length_a 7.5004\n",
      "_cell_length_b 7.5004\n",
      "_cell_length_c 7.5004\n",
      "_cell_angle_alpha 90.0000\n",
      "_cell_angle_beta 90.0000\n",
      "_cell_angle_gamma 90.0000\n",
      "_symmetry_Int_Tables_number 225\n",
      "_chemical_formula_structural LiEr2Ga\n",
      "_chemical_formula_sum 'Li4 Er8 Ga4'\n",
      "_cell_volume 385.3491\n",
      "_cell_formula_units_Z 4\n",
      "loop_\n",
      "_symmetry_equiv_pos_site_id\n",
      "_symmetry_equiv_pos_as_xyz\n",
      "1 'x, y, z'\n",
      "loop_\n",
      "_atom_site_type_symbol\n",
      "_atom_site_label\n",
      "_atom_site_symmetry_multiplicity\n",
      "_atom_site_fract_x\n",
      "_atom_site_fract_y\n",
      "_atom_site_fract_z\n",
      "_atom_site_occupancy\n",
      "Li Li0 4 0.0000 0.0000 0.0000 1.0000\n",
      "Er Er1 8 0.2500 0.2500 0.2500 1.0000\n",
      "Ga Ga2 4 0.0000 0.0000 0.5000 1.0000\n",
      "\n",
      "data_Li4Er8Ga4\n",
      "_symmetry_space_group_name_H-M Fm-3m\n",
      "_cell_length_a 7.6043\n",
      "_cell_length_b 7.6043\n",
      "_cell_length_c 7.6043\n",
      "_cell_angle_alpha 90.0000\n",
      "_cell_angle_beta 90.0000\n",
      "_cell_angle_gamma 90.0000\n",
      "_symmetry_Int_Tables_number 225\n",
      "_chemical_formula_structural LiEr2Ga\n",
      "_chemical_formula_sum 'Li4 Er8 Ga4'\n",
      "_cell_volume 364.7278\n",
      "_cell_formula_units_Z 4\n",
      "loop_\n",
      "_symmetry_equiv_pos_site_id\n",
      "_symmetry_equiv_pos_as_xyz\n",
      "1 'x, y, z'\n",
      "loop_\n",
      "_atom_site_type_symbol\n",
      "_atom_site_label\n",
      "_atom_site_symmetry_multiplicity\n",
      "_atom_site_fract_x\n",
      "_atom_site_fract_y\n",
      "_atom_site_fract_z\n",
      "_atom_site_occupancy\n",
      "Li Li0 4 0.0000 0.0000 0.0000 1.0000\n",
      "Er Er1 8 0.2500 0.2500 0.2500 1.0000\n",
      "Ga Ga2 4 0.0000 0.0000 0.5000 1.0000\n",
      "\n",
      "data_Li4Er8Ga4\n",
      "_symmetry_space_group_name_H-M Fm-3m\n",
      "_cell_length_a 6.7392\n",
      "_cell_length_b 6.7392\n",
      "_cell_length_c 6.7392\n",
      "_cell_angle_alpha 90.0000\n",
      "_cell_angle_beta 90.0000\n",
      "_cell_angle_gamma 90.0000\n",
      "_symmetry_Int_Tables_number 225\n",
      "_chemical_formula_structural LiEr2Ga\n",
      "_chemical_formula_sum 'Li4 Er8 Ga4'\n",
      "_cell_volume 327.0238\n",
      "_cell_formula_units_Z 4\n",
      "loop_\n",
      "_symmetry_equiv_pos_site_id\n",
      "_symmetry_equiv_pos_as_xyz\n",
      "1 'x, y, z'\n",
      "loop_\n",
      "_atom_site_type_symbol\n",
      "_atom_site_label\n",
      "_atom_site_symmetry_multiplicity\n",
      "_atom_site_fract_x\n",
      "_atom_site_fract_y\n",
      "_atom_site_fract_z\n",
      "_atom_site_occupancy\n",
      "Li Li0 4 0.0000 0.0000 0.0000 1.0000\n",
      "Er Er1 8 0.2500 0.2500 0.2500 1.0000\n",
      "Ga Ga2 4 0.0000 0.0000 0.5000 1.0000\n",
      "\n",
      "data_Li4Er8Ga4\n",
      "_symmetry_space_group_name_H-M Fm-3m\n",
      "_cell_length_a 6.2331\n",
      "_cell_length_b 6.2331\n",
      "_cell_length_c 6.2331\n",
      "_cell_angle_alpha 90.0000\n",
      "_cell_angle_beta 90.0000\n",
      "_cell_angle_gamma 90.0000\n",
      "_symmetry_Int_Tables_number 225\n",
      "_chemical_formula_structural LiEr2Ga\n",
      "_chemical_formula_sum 'Li4 Er8 Ga4'\n",
      "_cell_volume 235.8500\n",
      "_cell_formula_units_Z 4\n",
      "loop_\n",
      "_symmetry_equiv_pos_site_id\n",
      "_symmetry_equiv_pos_as_xyz\n",
      "1 'x, y, z'\n",
      "loop_\n",
      "_atom_site_type_symbol\n",
      "_atom_site_label\n",
      "_atom_site_symmetry_multiplicity\n",
      "_atom_site_fract_x\n",
      "_atom_site_fract_y\n",
      "_atom_site_fract_z\n",
      "_atom_site_occupancy\n",
      "Li Li0 4 0.0000 0.0000 0.0000 1.0000\n",
      "Er Er1 8 0.2500 0.2500 0.2500 1.0000\n",
      "Ga Ga2 4 0.0000 0.0000 0.5000 1.0000\n",
      "\n",
      "data_Li4Er8Ga4\n",
      "_symmetry_space_group_name_H-M Fm-3m\n",
      "_cell_length_a 6.2424\n",
      "_cell_length_b 6.2424\n",
      "_cell_length_c 6.2424\n",
      "_cell_angle_alpha 90.0000\n",
      "_cell_angle_beta 90.0000\n",
      "_cell_angle_gamma 90.0000\n",
      "_symmetry_Int_Tables_number 225\n",
      "_chemical_formula_structural LiEr2Ga\n",
      "_chemical_formula_sum 'Li4_atom_site_type_symbol\n",
      "_cell_formula_units_Z Pa4'\n",
      "_symmetry_equiv_pos_as_xyz\n",
      "1.5254 4\n",
      "1 4 U4 '\n",
      "12 Ru z'x, y, z'\n",
      "loop_\n",
      "_atom_site_type_symbol\n",
      "_atom_site_label\n",
      "_atom_site_symmetry_multiplicity\n",
      "_atom_site_fract_x\n",
      "_atom_site_fract_y\n",
      "_atom_site_fract_z\n",
      "_atom_site_occupancy\n",
      "Li Y0 4 0.0000 0.0000 0.0000 1.0000\n",
      "Er In1 8 0.0000 0.0000 0.0000 1.0000\n",
      "\n"
     ]
    }
   ],
   "source": [
    "for cif in cifs:\n",
    "    print(cif, end='\\n\\n')"
   ]
  },
  {
   "cell_type": "code",
   "execution_count": null,
   "id": "1d88b26f",
   "metadata": {},
   "outputs": [],
   "source": []
  }
 ],
 "metadata": {
  "kernelspec": {
   "display_name": "Python 3 (ipykernel)",
   "language": "python",
   "name": "python3"
  },
  "language_info": {
   "codemirror_mode": {
    "name": "ipython",
    "version": 3
   },
   "file_extension": ".py",
   "mimetype": "text/x-python",
   "name": "python",
   "nbconvert_exporter": "python",
   "pygments_lexer": "ipython3",
   "version": "3.9.0"
  }
 },
 "nbformat": 4,
 "nbformat_minor": 5
}

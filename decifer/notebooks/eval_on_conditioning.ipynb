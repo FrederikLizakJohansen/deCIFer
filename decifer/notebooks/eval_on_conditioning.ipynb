{
 "cells": [
  {
   "cell_type": "code",
   "execution_count": 1,
   "id": "8091bf2a",
   "metadata": {},
   "outputs": [],
   "source": [
    "# TODO\n",
    "# Load dataset with conditioning\n",
    "# Load model\n",
    "# Generate using the conditioning"
   ]
  },
  {
   "cell_type": "code",
   "execution_count": 2,
   "id": "718eb94f",
   "metadata": {},
   "outputs": [],
   "source": [
    "import os\n",
    "import sys\n",
    "sys.path.append(\"./\")\n",
    "import yaml\n",
    "\n",
    "import torch\n",
    "from torch.utils.data import DataLoader\n",
    "\n",
    "import numpy as np\n",
    "\n",
    "from decifer import (\n",
    "    DeciferConfig,\n",
    "    Decifer, # TODO make this DeciferModel instead\n",
    "    DeciferDataset,\n",
    "    Tokenizer,\n",
    "    load_model_from_checkpoint,\n",
    "    extract_prompt\n",
    ")"
   ]
  },
  {
   "cell_type": "code",
   "execution_count": 3,
   "id": "ae8b48cb",
   "metadata": {},
   "outputs": [],
   "source": [
    "# Create dataset\n",
    "dataset_path = \"../data/crystallm/1k/serialized/test.h5\"\n",
    "dataset = DeciferDataset(dataset_path, [\"cif_tokenized\", \"xrd_cont.iq\"])"
   ]
  },
  {
   "cell_type": "code",
   "execution_count": 11,
   "id": "42530114",
   "metadata": {},
   "outputs": [
    {
     "name": "stdout",
     "output_type": "stream",
     "text": [
      "number of total parameters: 0.19M\n"
     ]
    },
    {
     "data": {
      "text/plain": [
       "Decifer(\n",
       "  (transformer): ModuleDict(\n",
       "    (cond_embedding): Linear(in_features=1000, out_features=64, bias=True)\n",
       "    (wte): Embedding(372, 64)\n",
       "    (wpe): Embedding(1024, 64)\n",
       "    (drop): Dropout(p=0.1, inplace=False)\n",
       "    (h): ModuleList(\n",
       "      (0-1): 2 x Block(\n",
       "        (ln_1): LayerNorm()\n",
       "        (attn): CausalSelfAttention(\n",
       "          (c_attn): Linear(in_features=64, out_features=192, bias=False)\n",
       "          (c_proj): Linear(in_features=64, out_features=64, bias=False)\n",
       "          (attn_dropout): Dropout(p=0.1, inplace=False)\n",
       "          (resid_dropout): Dropout(p=0.1, inplace=False)\n",
       "        )\n",
       "        (ln_2): LayerNorm()\n",
       "        (mlp): MLP(\n",
       "          (c_fc): Linear(in_features=64, out_features=256, bias=False)\n",
       "          (c_proj): Linear(in_features=256, out_features=64, bias=False)\n",
       "          (dropout): Dropout(p=0.1, inplace=False)\n",
       "        )\n",
       "      )\n",
       "    )\n",
       "    (ln_f): LayerNorm()\n",
       "  )\n",
       "  (lm_head): Linear(in_features=64, out_features=372, bias=False)\n",
       ")"
      ]
     },
     "execution_count": 11,
     "metadata": {},
     "output_type": "execute_result"
    }
   ],
   "source": [
    "# Load model\n",
    "device = torch.device('cuda' if torch.cuda.is_available() else 'cpu')\n",
    "ckpt_path = \"../test_fullmasking_cond/ckpt.pt\"\n",
    "model = load_model_from_checkpoint(ckpt_path, device=device)\n",
    "model.eval()\n",
    "# model.train()"
   ]
  },
  {
   "cell_type": "code",
   "execution_count": 5,
   "id": "0a5a8f58",
   "metadata": {},
   "outputs": [
    {
     "data": {
      "text/plain": [
       "DeciferConfig(block_size=1024, vocab_size=372, cond_size=1000, n_layer=2, n_head=2, n_embd=64, dropout=0.1, bias=False, lora_rank=2, use_lora=False, lora_mlp=False, lora_proj=False, condition_with_emb=False, boundary_masking=True)"
      ]
     },
     "execution_count": 5,
     "metadata": {},
     "output_type": "execute_result"
    }
   ],
   "source": [
    "model.config"
   ]
  },
  {
   "cell_type": "code",
   "execution_count": 6,
   "id": "6f27fc43",
   "metadata": {},
   "outputs": [],
   "source": [
    "# Make decoder for tokens->CIFs\n",
    "decode = Tokenizer().decode"
   ]
  },
  {
   "cell_type": "code",
   "execution_count": 7,
   "id": "79961f72",
   "metadata": {},
   "outputs": [],
   "source": [
    "import matplotlib.pyplot as plt"
   ]
  },
  {
   "cell_type": "code",
   "execution_count": 10,
   "id": "b1f8e06f",
   "metadata": {
    "scrolled": false
   },
   "outputs": [
    {
     "data": {
      "image/png": "[encoded data removed]",
      "text/plain": [
       "<Figure size 640x480 with 1 Axes>"
      ]
     },
     "metadata": {},
     "output_type": "display_data"
    },
    {
     "name": "stdout",
     "output_type": "stream",
     "text": [
      "data_Th2Ni4P4\n",
      "loop_\n",
      "_atom_type_symbol\n",
      "_atom_type_electronegativity\n",
      "_atom_type_radius\n",
      "_atom_type_ionic_radius\n",
      "Th 1.3000 1.8000 1.0800\n",
      "Ni 1.9100 1.3500 0.7400\n",
      "P 2.1900 1.0000 0.5500\n",
      "_symmetry_space_group_name_H-M P4/nmm\n",
      "_cell_length_a 4.0833\n",
      "_cell_length_b 4.0833\n",
      "_cell_length_c 9.0587\n",
      "_cell_angle_alpha 90.0000\n",
      "_cell_angle_beta 90.0000\n",
      "_cell_angle_gamma 90.0000\n",
      "_symmetry_Int_Tables_number 129\n",
      "_chemical_formula_structural Th(NiP)2\n",
      "_chemical_formula_sum 'Th2 Ni4 P4'\n",
      "_cell_volume 151.0415\n",
      "_cell_formula_units_Z 2\n",
      "loop_\n",
      "_symmetry_equiv_pos_site_id\n",
      "_symmetry_equiv_pos_as_xyz\n",
      "1 'x, y, z'\n",
      "loop_\n",
      "_atom_site_type_symbol\n",
      "_atom_site_label\n",
      "_atom_site_symmetry_multiplicity\n",
      "_atom_site_fract_x\n",
      "_atom_site_fract_y\n",
      "_atom_site_fract_z\n",
      "_atom_site_occupancy\n",
      "Th Th0 2 0.0000 0.5000 0.7514 1.0000\n",
      "Ni Ni1 2 0.0000 0.0000 0.0000 1.0000\n",
      "Ni Ni2 2 0.0000 0.5000 0.3860 1.0000\n",
      "P P3 2 0.0000 0.0000 0.5000 1.0000\n",
      "P P4 2 0.0000 0.5000 0.1290 1.0000\n",
      "\n",
      "data_O2Ni1O2Br20'Na 22.8 0.0.00.4 4884 W17 007 00.00.21 000.4278 136000\n",
      "O 000.246 0000.095 15 0\n",
      "_symmetry_space_group_name_H-M 90007.0.0518.9\n",
      "_cell_length_b 14\n",
      "_cell_length_b 914.7.153500032400.00\n",
      "_cell_angle_beta 378.00048\n",
      "_cell_volume 100000\n",
      "_cell_angle_beta 0\n",
      "_symmetry_Int_Tables_number 7 9900000000.14 6\n",
      "Tlzy, 8\n",
      "_symmetry_equiv_pos_site_id\n",
      "loop_\n",
      "_cell_angle_beta y, Cmmm\n",
      "_atom_type_electronegativity\n",
      "_atom_site_symmetry_multiplicity\n",
      "_atom_site_fract_x\n",
      "_atom_site_occupancy\n",
      "_atom_site_fract_x\n",
      "P-4n2\n",
      "Fe4 100000.40 0.550 000000\n",
      "Sr0.00.2 1.000.8Nd 86 100000\n",
      "95 0.83167 000.00.7757 00.00000.0.0.'.0 O Li8589 00.1000.00.0\n",
      "Co 0.00\n",
      "F 0428 0 00.0\n",
      "N2 0\n",
      "Eu 0050\n",
      "O 00000.00 0\n",
      "0000 00.4500023 1677500.00.0000.2 0 00\n",
      "data_ 2 000.0 0.042 1.1 0 0\n",
      "O 160.7 1390000.27 00 00\n",
      "O845 0 H60.00.0\n",
      "Ti1.439 1971 1.00.0\n",
      "_cell_length_a 000\n",
      "O4 00000.0000\n",
      "_symmetry_space_group_name_H-M 4526 1.000.0 B 00.644 08 4900O50.4 000\n",
      "O 07 4 1 1.1.2 10 00.000 0.00 O7 1300.89 0\n",
      "O 0000.0\n",
      "data_ 1.4 000.0 0.4000O152 00 Eu20.45200.30.2 124300\n",
      "Ni 1.25000.00000.543000.84900\n",
      "Cl6 000\n",
      "O80\n",
      "C43 00.400.0.5 0.0\n",
      "Se 0\n",
      "N21.2651.000\n",
      "8 0 00.2 0 0\n",
      "O1.270\n",
      "Ti 0.00.000 0 0000\n",
      "P285003500.471.27 00.00.000000942 1 O 0\n",
      "data_Mo231.0000.00 1 1.1 O 0\n",
      "Ti4 0\n",
      "_cell_formula_units_Z 0000011.3 O O2 000000003 000\n",
      "Dy3 0 259 10.000.8 0.0 0 2 0 O4 1.490 0 S O1.74 155081 S 00.4 040.898 0\n",
      "Ni37 Li56 1634 0.35000.25 25 00.2 Li 1.840.2367561.24414 80.0004 data_Th11\n",
      "loop_\n",
      "_atom_type_electronegativity\n",
      "_atom_type_symbol\n",
      "_atom_type_ionic_radius_atom_site_fract_y\n",
      "Ag 0_atom_site_fract_z\n",
      "Na 1.50.3 Ag.2 00.2.500 1\n",
      "Th 1.080.20.6448511.391 1.4 \n",
      "Mo 04 1.3240.44 0082560000516 1.2 0\n",
      "N3 0 0000.811.2 2Fmm2 0000 1.93250.5 0.1.10.0.2500\n",
      "Zn1.8500 4 O 00.9 1.1.1.7 0 1 0 0.32483187 10068 0\n",
      "Fe 01.4400.00000505752831.434 1100 8 Sb1.0.16 336 41.28461.0.2600\n",
      "O74 0.0041 04 0.4 190.0 470.04830.5324 1O 2938526 0000.20.00.1.114 1 0\n",
      "_symmetry_space_group_name_H-M 0 0081.181 1 0.00\n",
      "O65700.656 0.0.25 1653715\n",
      "O1543 0000 1.00.261.241..182 0000.8000.18 00\n",
      "O 012 0.51.83756845 144 S 0.9 834 0570.01.84 44 943141 0.24 O 1.3 00.6 1.4 1.9 1.0.4839 414 1.0.85000\n",
      "Br40 000\n",
      "B2000 0.518 P-3\n",
      "4 Mn534 F873871.7626 121942 158 00008500 0 017 Co1.06500.0.185641.0000.2 1392 0026 26 000000.1.2 1877417 0.1.5 NaMn238 0000000.1.9683 4469 0.59 4775 1.5 1000.27555 285368286881 1.1.13493688 4 0.8 0360.650.53333 1644832 0.00.3 0.41.629396 1 0.1.1.471.0.21.6537245 283000.9134341 0.0000.21 1 1.1.9454689 550556781P-6m2\n",
      "\n"
     ]
    }
   ],
   "source": [
    "# Sample from dataset\n",
    "for i, sample in enumerate(iter(dataset)):\n",
    "    cif_tokens, xrd = sample\n",
    "    plt.plot(xrd)\n",
    "    plt.show()\n",
    "    xrd = xrd.to(device=device)\n",
    "\n",
    "    xrd_random = torch.rand_like(xrd).to(device=device)\n",
    "    prompt = extract_prompt(cif_tokens, model.device, add_composition=False, add_spacegroup=False).unsqueeze(0)\n",
    "    print(decode(cif_tokens.cpu().numpy()))\n",
    "    print()\n",
    "#     print(prompt)\n",
    "    \n",
    "#     model(prompt, cond_vec=xrd, start_indices_batch = [[0]])\n",
    "#     model(prompt, cond_vec=xrd_random, start_indices_batch = [[0]])\n",
    "    \n",
    "    model.generate_and_print(prompt, max_new_tokens=1000, cond_vec=None, start_indices_batch = [[0]])\n",
    "    model.generate_and_print(prompt, max_new_tokens=1000, cond_vec=xrd_random, start_indices_batch = [[0]])\n",
    "    \n",
    "    #model.generate_and_print(prompt, max_new_tokens=1000, cond_vec=xrd, start_indices_batch = [[0]])\n",
    "    #print(\"\\n\\n\\n\")\n",
    "    #model.generate_and_print(prompt, max_new_tokens=1000, cond_vec=xrd_random, start_indices_batch = [[0]])\n",
    "\n",
    "#     out = model.generate(prompt, max_new_tokens=1000, cond_vec=xrd, start_indices_batch = [[0]])\n",
    "    break"
   ]
  },
  {
   "cell_type": "code",
   "execution_count": 8,
   "id": "17e8b8bc",
   "metadata": {},
   "outputs": [
    {
     "name": "stdout",
     "output_type": "stream",
     "text": [
      "data_Th2Ni4P4\n",
      "_atom_type_symbol\n",
      "_atom_type_symbol\n",
      "_atom_type_electronegativity\n",
      "_atom_type_radius\n",
      "_atom_type_ionic_radius\n",
      "Ti 060.80 2500 2.400 1.510 O 1.5.6000 1.00 00\n",
      "S 3.1.764 3 000.880 00.0\n",
      "C 0.600.80\n",
      "Cl 0.12500 172 3.28 3640.00000\n",
      "_symmetry_space_group_name_H-M P6_3/mmc\n",
      "Nd 1580882\n",
      "_cell_length_b 7.163\n",
      "_cell_length_c 193.0\n",
      "_cell_angle_alpha 9000.2300\n",
      "_cell_angle_beta 11\n",
      "_cell_angle_gamma 90.00.203875\n",
      "_symmetry_Int_Tables_number 5\n",
      "_chemical_formula_sum 'Mg3 Co36'\n",
      "_cell_formula_units_Z  _symmetry_equiv_pos_site_id\n",
      "_symmetry_equiv_pos_as_xyz\n",
      "2 'x, '\n",
      "loop_\n",
      "loop_\n",
      "loop_\n",
      "loop_\n",
      "_atom_site_type_symbol\n",
      "_atom_site_symmetry_multiplicity\n",
      "_atom_site_fract_y\n",
      "_atom_site_occupancy\n",
      "Te1.00.0.51 Sn125000000 1 48 0.50.18 0.00000500 0\n",
      "Br2350 16 0 0.00.000 17 1 0000000 0.00.00000000.0\n",
      "data_0.2 0.45000.000000\n",
      "Zn 00000 Ir 1.0 1 U3695460 000\n",
      "O3 0.587 0007 18 0 000090 0 Sn39 4 C3 0.0.2592 0 23 4367 0.7081.1.0\n",
      "O1.0\n",
      "O5004 1.0 0.25782 0.624254275 1.0 O43 0.791.0.0\n",
      "O4 0.50.0\n",
      "S490.0\n",
      "O16616 00000.03380.1.50\n",
      "Mo7938 O O2 O O198 12 16 1767 0.8 0.3 00\n",
      "O 0.00\n",
      "data_ 2934732821 Mo73660085 0.4 071Mo 14 2956 152742 1256800.0\n",
      "\n",
      "\n"
     ]
    }
   ],
   "source": [
    "print(decode(out[0].cpu().numpy()))"
   ]
  },
  {
   "cell_type": "code",
   "execution_count": 1,
   "id": "cfc327a6",
   "metadata": {},
   "outputs": [
    {
     "name": "stdout",
     "output_type": "stream",
     "text": [
      "number of total parameters: 25.41M\n"
     ]
    }
   ],
   "source": [
    "import os\n",
    "import sys\n",
    "sys.path.append(\"./\")\n",
    "import yaml\n",
    "\n",
    "import torch\n",
    "from torch.utils.data import DataLoader\n",
    "\n",
    "import numpy as np\n",
    "\n",
    "from decifer import (\n",
    "    DeciferConfig,\n",
    "    Decifer, # TODO make this DeciferModel instead\n",
    "    DeciferDataset,\n",
    "    Tokenizer,\n",
    "    load_model_from_checkpoint,\n",
    "    extract_prompt\n",
    ")\n",
    "\n",
    "\n",
    "# Sample inputs\n",
    "batch_size = 4\n",
    "seq_len = 10\n",
    "config = DeciferConfig()\n",
    "device = 'cuda'\n",
    "model = Decifer(config).to(device)\n",
    "\n",
    "idx = torch.randint(0, config.vocab_size, (batch_size, seq_len), device=device)\n",
    "targets = idx.clone()\n",
    "cond_vec = torch.randn(batch_size, config.block_size, device=device)\n",
    "\n",
    "start_indices_batch = [\n",
    "    [2, 5],       # Start indices for the first sequence\n",
    "    [3, 7],       # Start indices for the second sequence\n",
    "    [1, 4, 6],    # Start indices for the third sequence\n",
    "    [],           # No insertions for the fourth sequence\n",
    "]\n",
    "\n",
    "logits, loss = model(idx, cond_vec=cond_vec, targets=targets, start_indices_batch=start_indices_batch)\n"
   ]
  },
  {
   "cell_type": "code",
   "execution_count": 2,
   "id": "bd4d3a08",
   "metadata": {},
   "outputs": [
    {
     "data": {
      "text/plain": [
       "torch.Size([4, 13, 372])"
      ]
     },
     "execution_count": 2,
     "metadata": {},
     "output_type": "execute_result"
    }
   ],
   "source": [
    "logits.shape"
   ]
  },
  {
   "cell_type": "code",
   "execution_count": 3,
   "id": "ca275c7b",
   "metadata": {},
   "outputs": [
    {
     "data": {
      "text/plain": [
       "tensor(5.0040, device='cuda:0', grad_fn=<NllLossBackward0>)"
      ]
     },
     "execution_count": 3,
     "metadata": {},
     "output_type": "execute_result"
    }
   ],
   "source": [
    "loss"
   ]
  },
  {
   "cell_type": "code",
   "execution_count": null,
   "id": "00d90f10",
   "metadata": {},
   "outputs": [],
   "source": []
  }
 ],
 "metadata": {
  "kernelspec": {
   "display_name": "Python 3 (ipykernel)",
   "language": "python",
   "name": "python3"
  },
  "language_info": {
   "codemirror_mode": {
    "name": "ipython",
    "version": 3
   },
   "file_extension": ".py",
   "mimetype": "text/x-python",
   "name": "python",
   "nbconvert_exporter": "python",
   "pygments_lexer": "ipython3",
   "version": "3.9.0"
  }
 },
 "nbformat": 4,
 "nbformat_minor": 5
}

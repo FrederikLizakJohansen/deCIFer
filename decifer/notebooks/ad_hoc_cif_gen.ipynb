{
 "cells": [
  {
   "cell_type": "code",
   "execution_count": 2,
   "id": "394ea912",
   "metadata": {},
   "outputs": [],
   "source": [
    "import numpy as np\n",
    "import pandas as pd\n",
    "import torch\n",
    "\n",
    "from decifer import (\n",
    "    DeciferDataset,\n",
    "    Decifer,\n",
    "    DeciferConfig,\n",
    "    load_model_from_checkpoint,\n",
    "    Tokenizer,\n",
    "    extract_prompt,\n",
    "    replace_symmetry_loop_with_P1,\n",
    "    extract_space_group_symbol,\n",
    "    reinstate_symmetry_loop,\n",
    ")"
   ]
  },
  {
   "cell_type": "code",
   "execution_count": 3,
   "id": "ced39e51",
   "metadata": {},
   "outputs": [],
   "source": [
    "# load a cif string and its xrd\n",
    "dataset = DeciferDataset('../data/crystallm/full/serialized/test.h5', ['cif_string', 'cif_tokenized', 'xrd_cont.iq'])\n",
    "decode = Tokenizer().decode\n",
    "padding_id = Tokenizer().padding_id\n",
    "dataset_iter = iter(dataset)"
   ]
  },
  {
   "cell_type": "code",
   "execution_count": 4,
   "id": "3e19c31a",
   "metadata": {},
   "outputs": [
    {
     "name": "stdout",
     "output_type": "stream",
     "text": [
      "number of total parameters: 25.75M\n"
     ]
    },
    {
     "data": {
      "text/plain": [
       "Decifer(\n",
       "  (transformer): ModuleDict(\n",
       "    (cond_embedding): Sequential(\n",
       "      (0): Linear(in_features=1000, out_features=256, bias=True)\n",
       "      (1): ReLU()\n",
       "      (2): Linear(in_features=256, out_features=512, bias=True)\n",
       "    )\n",
       "    (wte): Embedding(372, 512)\n",
       "    (wpe): Embedding(1024, 512)\n",
       "    (drop): Dropout(p=0.1, inplace=False)\n",
       "    (h): ModuleList(\n",
       "      (0-7): 8 x Block(\n",
       "        (ln_1): LayerNorm()\n",
       "        (attn): CausalSelfAttention(\n",
       "          (c_attn): Linear(in_features=512, out_features=1536, bias=False)\n",
       "          (c_proj): Linear(in_features=512, out_features=512, bias=False)\n",
       "          (attn_dropout): Dropout(p=0.1, inplace=False)\n",
       "          (resid_dropout): Dropout(p=0.1, inplace=False)\n",
       "        )\n",
       "        (ln_2): LayerNorm()\n",
       "        (mlp): MLP(\n",
       "          (c_fc): Linear(in_features=512, out_features=2048, bias=False)\n",
       "          (c_proj): Linear(in_features=2048, out_features=512, bias=False)\n",
       "          (dropout): Dropout(p=0.1, inplace=False)\n",
       "        )\n",
       "      )\n",
       "    )\n",
       "    (ln_f): LayerNorm()\n",
       "  )\n",
       "  (lm_head): Linear(in_features=512, out_features=372, bias=False)\n",
       ")"
      ]
     },
     "execution_count": 4,
     "metadata": {},
     "output_type": "execute_result"
    }
   ],
   "source": [
    "device = torch.device('cuda' if torch.cuda.is_available() else 'cpu')\n",
    "model = load_model_from_checkpoint('../deep_conditioning/ckpt.pt', device)\n",
    "model.eval()"
   ]
  },
  {
   "cell_type": "code",
   "execution_count": 6,
   "id": "94476a08",
   "metadata": {
    "scrolled": false
   },
   "outputs": [
    {
     "name": "stdout",
     "output_type": "stream",
     "text": [
      "torch.Size([1, 1000])\n"
     ]
    },
    {
     "ename": "TypeError",
     "evalue": "len() takes exactly one argument (0 given)",
     "output_type": "error",
     "traceback": [
      "\u001b[0;31m---------------------------------------------------------------------------\u001b[0m",
      "\u001b[0;31mTypeError\u001b[0m                                 Traceback (most recent call last)",
      "Cell \u001b[0;32mIn[6], line 9\u001b[0m\n\u001b[1;32m      7\u001b[0m cond_vec \u001b[38;5;241m=\u001b[39m xrd\u001b[38;5;241m.\u001b[39mto(model\u001b[38;5;241m.\u001b[39mdevice)\u001b[38;5;241m.\u001b[39munsqueeze(\u001b[38;5;241m0\u001b[39m)\n\u001b[1;32m      8\u001b[0m \u001b[38;5;28mprint\u001b[39m(cond_vec\u001b[38;5;241m.\u001b[39mshape)\n\u001b[0;32m----> 9\u001b[0m \u001b[38;5;28mprint\u001b[39m(\u001b[38;5;28;43mlen\u001b[39;49m\u001b[43m(\u001b[49m\u001b[43m)\u001b[49m)\n\u001b[1;32m     10\u001b[0m token_ids \u001b[38;5;241m=\u001b[39m model\u001b[38;5;241m.\u001b[39mgenerate_batched_reps(prompt, max_new_tokens\u001b[38;5;241m=\u001b[39m\u001b[38;5;241m1000\u001b[39m, cond_vec\u001b[38;5;241m=\u001b[39mcond_vec, start_indices_batch\u001b[38;5;241m=\u001b[39m[[\u001b[38;5;241m0\u001b[39m]])\u001b[38;5;241m.\u001b[39mcpu()\u001b[38;5;241m.\u001b[39mnumpy()\n\u001b[1;32m     11\u001b[0m token_ids \u001b[38;5;241m=\u001b[39m [ids[ids \u001b[38;5;241m!=\u001b[39m padding_id] \u001b[38;5;28;01mfor\u001b[39;00m ids \u001b[38;5;129;01min\u001b[39;00m token_ids]  \u001b[38;5;66;03m# Remove padding tokens\u001b[39;00m\n",
      "\u001b[0;31mTypeError\u001b[0m: len() takes exactly one argument (0 given)"
     ]
    }
   ],
   "source": [
    "cif_string, cif_tokenized, xrd = next(dataset_iter)\n",
    "\n",
    "prompt = extract_prompt(cif_tokenized, model.device, add_composition=True, add_spacegroup=True).unsqueeze(0)\n",
    "# print(prompt)\n",
    "# print(len())\n",
    "\n",
    "cond_vec = xrd.to(model.device).unsqueeze(0)\n",
    "print(cond_vec.shape)\n",
    "print(len())\n",
    "token_ids = model.generate_batched_reps(prompt, max_new_tokens=1000, cond_vec=cond_vec, start_indices_batch=[[0]]).cpu().numpy()\n",
    "token_ids = [ids[ids != padding_id] for ids in token_ids]  # Remove padding tokens\n",
    "\n",
    "out_cif = decode(list(token_ids[0]))\n",
    "out_cif = replace_symmetry_loop_with_P1(out_cif)\n",
    "\n",
    "# Extract space group symbol from the CIF string\n",
    "spacegroup_symbol = extract_space_group_symbol(out_cif)\n",
    "\n",
    "# If the space group is not \"P1\", reinstate symmetry\n",
    "if spacegroup_symbol != \"P 1\":\n",
    "    out_cif = reinstate_symmetry_loop(out_cif, spacegroup_symbol)\n",
    "    \n",
    "print(cif_string)\n",
    "print()\n",
    "print(out_cif)"
   ]
  },
  {
   "cell_type": "code",
   "execution_count": null,
   "id": "aa97f521",
   "metadata": {},
   "outputs": [],
   "source": []
  }
 ],
 "metadata": {
  "kernelspec": {
   "display_name": "Python 3 (ipykernel)",
   "language": "python",
   "name": "python3"
  },
  "language_info": {
   "codemirror_mode": {
    "name": "ipython",
    "version": 3
   },
   "file_extension": ".py",
   "mimetype": "text/x-python",
   "name": "python",
   "nbconvert_exporter": "python",
   "pygments_lexer": "ipython3",
   "version": "3.9.20"
  }
 },
 "nbformat": 4,
 "nbformat_minor": 5
}

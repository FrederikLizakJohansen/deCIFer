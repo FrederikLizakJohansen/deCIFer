{
 "cells": [
  {
   "cell_type": "code",
   "execution_count": null,
   "id": "515c4bd6-d651-4a99-8e7d-999747ea22d3",
   "metadata": {},
   "outputs": [],
   "source": []
  }
 ],
 "metadata": {
  "kernelspec": {
   "display_name": "",
   "name": ""
  },
  "language_info": {
   "name": ""
  }
 },
 "nbformat": 4,
 "nbformat_minor": 5
}

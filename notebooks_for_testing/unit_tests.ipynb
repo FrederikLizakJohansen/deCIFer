{
 "cells": [
  {
   "cell_type": "markdown",
   "id": "0f6cb455-f60a-4b7b-bc9a-5882a6e17af5",
   "metadata": {},
   "source": [
    "## Interlacing conditional embeddings into packed batch"
   ]
  },
  {
   "cell_type": "code",
   "execution_count": 1,
   "id": "2cb1f655-5264-4e9a-b722-c32171592723",
   "metadata": {},
   "outputs": [
    {
     "name": "stderr",
     "output_type": "stream",
     "text": [
      "/home/dev/miniconda3/envs/decifer_env/lib/python3.9/site-packages/tqdm/auto.py:21: TqdmWarning: IProgress not found. Please update jupyter and ipywidgets. See https://ipywidgets.readthedocs.io/en/stable/user_install.html\n",
      "  from .autonotebook import tqdm as notebook_tqdm\n"
     ]
    }
   ],
   "source": [
    "from decifer.decifer_model import Decifer, DeciferConfig\n",
    "import torch"
   ]
  },
  {
   "cell_type": "code",
   "execution_count": 2,
   "id": "fd22e9cc-07fe-43db-9723-079ce6e40d80",
   "metadata": {},
   "outputs": [
    {
     "name": "stdout",
     "output_type": "stream",
     "text": [
      "number of total parameters: 7.26M\n",
      "Decifer(\n",
      "  (transformer): ModuleDict(\n",
      "    (cond_embedding): Sequential(\n",
      "      (0): Linear(in_features=1000, out_features=512, bias=True)\n",
      "      (1): ReLU()\n",
      "      (2): Linear(in_features=512, out_features=512, bias=True)\n",
      "    )\n",
      "    (wte): Embedding(372, 512)\n",
      "    (wpe): Embedding(128, 512)\n",
      "    (drop): Dropout(p=0.1, inplace=False)\n",
      "    (h): ModuleList(\n",
      "      (0-1): 2 x Block(\n",
      "        (ln_1): LayerNorm()\n",
      "        (attn): CausalSelfAttention(\n",
      "          (c_attn): Linear(in_features=512, out_features=1536, bias=False)\n",
      "          (c_proj): Linear(in_features=512, out_features=512, bias=False)\n",
      "          (attn_dropout): Dropout(p=0.1, inplace=False)\n",
      "          (resid_dropout): Dropout(p=0.1, inplace=False)\n",
      "        )\n",
      "        (ln_2): LayerNorm()\n",
      "        (mlp): MLP(\n",
      "          (c_fc): Linear(in_features=512, out_features=2048, bias=False)\n",
      "          (c_proj): Linear(in_features=2048, out_features=512, bias=False)\n",
      "          (dropout): Dropout(p=0.1, inplace=False)\n",
      "        )\n",
      "      )\n",
      "    )\n",
      "    (ln_f): LayerNorm()\n",
      "  )\n",
      "  (lm_head): Linear(in_features=512, out_features=372, bias=False)\n",
      ")\n"
     ]
    }
   ],
   "source": [
    "checkpoint = torch.load(\"../testing_refactored/ckpt.pt\")\n",
    "model_args = checkpoint[\"model_args\"]\n",
    "state_dict = checkpoint[\"model\"]\n",
    "model = Decifer(DeciferConfig(**model_args))\n",
    "\n",
    "model.load_state_dict(state_dict)\n",
    "model.to(device='cpu')\n",
    "print(model)"
   ]
  },
  {
   "cell_type": "code",
   "execution_count": 8,
   "id": "0d190afe-4a9b-447b-833e-167e8974ba47",
   "metadata": {},
   "outputs": [
    {
     "name": "stdout",
     "output_type": "stream",
     "text": [
      "Conditioning embeddings correctly placed.\n"
     ]
    }
   ],
   "source": [
    "# Define simple test case with known positions\n",
    "idx = torch.randint(0, 372, (2, 6), dtype=torch.long)  # Single batch for simplicity\n",
    "cond_dim = 1000\n",
    "cond_vec = torch.randn(4, cond_dim)\n",
    "start_indices_batch = [[0, 5], [0, 2]]  # Known insert positions for cond_emb\n",
    "\n",
    "# Forward pass\n",
    "outputs = model(idx, cond_vec, start_indices_batch=start_indices_batch)\n",
    "\n",
    "# Extract embeddings at known insert positions\n",
    "inserted_emb_1 = outputs[0, 0, :]\n",
    "inserted_emb_2 = outputs[0, 6, :]\n",
    "inserted_emb_3 = outputs[1, 0, :]\n",
    "inserted_emb_4 = outputs[1, 3, :]\n",
    "\n",
    "# Compute expected conditioning embeddings\n",
    "expected_cond_emb = model.transformer.cond_embedding(cond_vec).to(dtype=outputs.dtype)\n",
    "\n",
    "# # Check that the inserted embeddings match the expected conditioning embeddings\n",
    "assert torch.allclose(inserted_emb_1, expected_cond_emb[0], atol=1e-6), \"Mismatch at position\"\n",
    "assert torch.allclose(inserted_emb_2, expected_cond_emb[1], atol=1e-6), \"Mismatch at position\"\n",
    "assert torch.allclose(inserted_emb_3, expected_cond_emb[2], atol=1e-6), \"Mismatch at position\"\n",
    "assert torch.allclose(inserted_emb_4, expected_cond_emb[3], atol=1e-6), \"Mismatch at position\"\n",
    "print(\"Conditioning embeddings correctly placed.\")\n"
   ]
  }
 ],
 "metadata": {
  "kernelspec": {
   "display_name": "Python 3 (ipykernel)",
   "language": "python",
   "name": "python3"
  },
  "language_info": {
   "codemirror_mode": {
    "name": "ipython",
    "version": 3
   },
   "file_extension": ".py",
   "mimetype": "text/x-python",
   "name": "python",
   "nbconvert_exporter": "python",
   "pygments_lexer": "ipython3",
   "version": "3.9.20"
  }
 },
 "nbformat": 4,
 "nbformat_minor": 5
}

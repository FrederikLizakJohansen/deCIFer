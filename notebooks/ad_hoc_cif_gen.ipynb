{
 "cells": [
  {
   "cell_type": "code",
   "execution_count": 1,
   "id": "394ea912",
   "metadata": {},
   "outputs": [],
   "source": [
    "import numpy as np\n",
    "import pandas as pd\n",
    "import torch\n",
    "\n",
    "from decifer.decifer_dataset import DeciferDataset\n",
    "from decifer.decifer_model import Decifer, DeciferConfig\n",
    "from decifer.tokenizer import Tokenizer\n",
    "from bin.evaluate import extract_prompt, load_model_from_checkpoint\n",
    "from decifer.utility import (\n",
    "    replace_symmetry_loop_with_P1,\n",
    "    extract_space_group_symbol,\n",
    "    reinstate_symmetry_loop,\n",
    "    disc_to_cont_xrd,\n",
    "    disc_to_cont_xrd_from_cif,\n",
    ")"
   ]
  },
  {
   "cell_type": "code",
   "execution_count": 2,
   "id": "ced39e51",
   "metadata": {},
   "outputs": [],
   "source": [
    "# load a cif string and its xrd\n",
    "dataset = DeciferDataset('../data/crystallm/full/serialized/test.h5', ['cif_string', 'cif_tokenized', 'xrd_disc.q', 'xrd_disc.iq'])\n",
    "decode = Tokenizer().decode\n",
    "padding_id = Tokenizer().padding_id\n",
    "dataset_iter = iter(dataset)"
   ]
  },
  {
   "cell_type": "code",
   "execution_count": 26,
   "id": "3e19c31a",
   "metadata": {},
   "outputs": [
    {
     "name": "stdout",
     "output_type": "stream",
     "text": [
      "number of total parameters: 26.14M\n"
     ]
    },
    {
     "data": {
      "text/plain": [
       "Decifer(\n",
       "  (transformer): ModuleDict(\n",
       "    (cond_embedding): Sequential(\n",
       "      (0): Linear(in_features=1000, out_features=512, bias=True)\n",
       "      (1): ReLU()\n",
       "      (2): Linear(in_features=512, out_features=512, bias=True)\n",
       "    )\n",
       "    (wte): Embedding(372, 512)\n",
       "    (wpe): Embedding(1024, 512)\n",
       "    (drop): Dropout(p=0.1, inplace=False)\n",
       "    (h): ModuleList(\n",
       "      (0-7): 8 x Block(\n",
       "        (ln_1): LayerNorm()\n",
       "        (attn): CausalSelfAttention(\n",
       "          (c_attn): Linear(in_features=512, out_features=1536, bias=False)\n",
       "          (c_proj): Linear(in_features=512, out_features=512, bias=False)\n",
       "          (attn_dropout): Dropout(p=0.1, inplace=False)\n",
       "          (resid_dropout): Dropout(p=0.1, inplace=False)\n",
       "        )\n",
       "        (ln_2): LayerNorm()\n",
       "        (mlp): MLP(\n",
       "          (c_fc): Linear(in_features=512, out_features=2048, bias=False)\n",
       "          (c_proj): Linear(in_features=2048, out_features=512, bias=False)\n",
       "          (dropout): Dropout(p=0.1, inplace=False)\n",
       "        )\n",
       "      )\n",
       "    )\n",
       "    (ln_f): LayerNorm()\n",
       "  )\n",
       "  (lm_head): Linear(in_features=512, out_features=372, bias=False)\n",
       ")"
      ]
     },
     "execution_count": 26,
     "metadata": {},
     "output_type": "execute_result"
    }
   ],
   "source": [
    "device = torch.device('cuda' if torch.cuda.is_available() else 'cpu')\n",
    "model = load_model_from_checkpoint('../experiments/cond_mlp_clean_5pctfwhm/ckpt.pt', device)\n",
    "model.eval()"
   ]
  },
  {
   "cell_type": "code",
   "execution_count": 27,
   "id": "7db25756-ea0e-49b6-b399-d7623047e342",
   "metadata": {},
   "outputs": [],
   "source": [
    "def rwp(sample, gen):\n",
    "    \"\"\"\n",
    "    Calculates the residual (un)weighted profile between a sample and a generated XRD pattern\n",
    "    \"\"\"\n",
    "    return np.sqrt(np.sum(np.square(sample - gen), axis=-1) / np.sum(np.square(sample), axis=-1))"
   ]
  },
  {
   "cell_type": "code",
   "execution_count": 38,
   "id": "6eee0d3b",
   "metadata": {},
   "outputs": [
    {
     "data": {
      "application/vnd.jupyter.widget-view+json": {
       "model_id": "6fba5e1f8ec347b1a7291e8bfff33bd1",
       "version_major": 2,
       "version_minor": 0
      },
      "text/plain": [
       "Generating sequence:   0%|          | 0/2048 [00:00<?, ?it/s]"
      ]
     },
     "metadata": {},
     "output_type": "display_data"
    },
    {
     "name": "stdout",
     "output_type": "stream",
     "text": [
      "0.14513129\n"
     ]
    },
    {
     "data": {
      "image/png": "[encoded data removed]",
      "text/plain": [
       "<Figure size 640x480 with 1 Axes>"
      ]
     },
     "metadata": {},
     "output_type": "display_data"
    }
   ],
   "source": [
    "out = next(dataset_iter)\n",
    "cif_string = out['cif_string']\n",
    "cif_tokenized = out['cif_tokenized']\n",
    "xrd_disc_q = out['xrd_disc.q']\n",
    "xrd_disc_iq = out['xrd_disc.iq']\n",
    "\n",
    "prompt = extract_prompt(cif_tokenized, model.device, add_composition=True, add_spacegroup=False).unsqueeze(0)\n",
    "\n",
    "xrd_out = disc_to_cont_xrd(\n",
    "    xrd_disc_q.unsqueeze(0), \n",
    "    xrd_disc_iq.unsqueeze(0),\n",
    "    qmin = 0.0,\n",
    "    qmax = 10.0,\n",
    "    qstep = 0.01,\n",
    "    fwhm_range = (0.05, 0.05),\n",
    "    noise_range = (0.01, 0.01),\n",
    "    mask_prob=0.0,\n",
    "    intensity_scale_range=(1.0, 1.0)\n",
    ")\n",
    "iq = xrd_out['iq']\n",
    "q = xrd_out['q']\n",
    "\n",
    "import matplotlib.pyplot as plt\n",
    "plt.plot(q, iq.squeeze(0))\n",
    "    \n",
    "cond_vec = iq.to(model.device)#.unsqueeze(0)\n",
    "\n",
    "token_ids = model.generate_batched_reps(prompt, max_new_tokens=2048, cond_vec=cond_vec, start_indices_batch=[[0]]).cpu().numpy()\n",
    "token_ids = [ids[ids != padding_id] for ids in token_ids]  # Remove padding tokens\n",
    "\n",
    "out_cif = decode(list(token_ids[0]))\n",
    "out_cif = replace_symmetry_loop_with_P1(out_cif)\n",
    "\n",
    "# Extract space group symbol from the CIF string\n",
    "spacegroup_symbol = extract_space_group_symbol(out_cif)\n",
    "\n",
    "# If the space group is not \"P1\", reinstate symmetry\n",
    "if spacegroup_symbol != \"P 1\":\n",
    "    out_cif = reinstate_symmetry_loop(out_cif, spacegroup_symbol)\n",
    "\n",
    "xrd_gen = disc_to_cont_xrd_from_cif(\n",
    "    out_cif,\n",
    "    qmin = 0.0,\n",
    "    qmax = 10.0,\n",
    "    qstep = 0.01,\n",
    "    fwhm_range = (0.05, 0.05),\n",
    "    noise_range = (0.01, 0.01),\n",
    "    mask_prob=0.0,\n",
    "    intensity_scale_range=(1.0, 1.0)\n",
    ")\n",
    "plt.plot(xrd_gen['q'], xrd_gen['iq'])\n",
    "plt.plot(xrd_gen['q'],  iq.squeeze(0).numpy() - xrd_gen['iq'])\n",
    "print(rwp(iq.squeeze(0).numpy(), xrd_gen['iq']))\n",
    "plt.show()\n",
    "    \n",
    "# print(cif_string)\n",
    "# print()\n",
    "# print(out_cif)"
   ]
  },
  {
   "cell_type": "code",
   "execution_count": null,
   "id": "aa97f521",
   "metadata": {},
   "outputs": [],
   "source": []
  },
  {
   "cell_type": "code",
   "execution_count": null,
   "id": "7a7b4126-3cf3-496a-893d-f83fe3543aa8",
   "metadata": {},
   "outputs": [],
   "source": []
  },
  {
   "cell_type": "code",
   "execution_count": null,
   "id": "c1862208-0a50-4e61-94d5-465e187654bc",
   "metadata": {},
   "outputs": [],
   "source": []
  },
  {
   "cell_type": "code",
   "execution_count": null,
   "id": "a59b39af-d7e0-46ad-ba9d-208da7260021",
   "metadata": {},
   "outputs": [],
   "source": []
  },
  {
   "cell_type": "code",
   "execution_count": null,
   "id": "567a9fb3-e320-4e62-835e-7ae6202a7df1",
   "metadata": {},
   "outputs": [],
   "source": []
  },
  {
   "cell_type": "code",
   "execution_count": null,
   "id": "a20e9631-e2d6-4747-8b8c-de650d4e904f",
   "metadata": {},
   "outputs": [],
   "source": []
  },
  {
   "cell_type": "code",
   "execution_count": null,
   "id": "fe0cadc5-f94c-4324-9299-fe07f37bcb4b",
   "metadata": {},
   "outputs": [],
   "source": []
  },
  {
   "cell_type": "code",
   "execution_count": null,
   "id": "bf71fc83-33fa-42e8-af4f-141dcb47f792",
   "metadata": {},
   "outputs": [],
   "source": []
  },
  {
   "cell_type": "code",
   "execution_count": null,
   "id": "2f315902-3ddf-4539-a1c9-96e4e73b098e",
   "metadata": {},
   "outputs": [],
   "source": []
  }
 ],
 "metadata": {
  "kernelspec": {
   "display_name": "Python 3 (ipykernel)",
   "language": "python",
   "name": "python3"
  },
  "language_info": {
   "codemirror_mode": {
    "name": "ipython",
    "version": 3
   },
   "file_extension": ".py",
   "mimetype": "text/x-python",
   "name": "python",
   "nbconvert_exporter": "python",
   "pygments_lexer": "ipython3",
   "version": "3.9.20"
  }
 },
 "nbformat": 4,
 "nbformat_minor": 5
}

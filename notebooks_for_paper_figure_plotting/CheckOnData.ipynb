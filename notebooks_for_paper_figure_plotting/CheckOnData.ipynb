{
 "cells": [
  {
   "cell_type": "code",
   "execution_count": 20,
   "id": "b8f5929d-0cb5-47d7-a176-65db9b347adf",
   "metadata": {},
   "outputs": [],
   "source": [
    "import h5py\n",
    "import numpy as np\n",
    "\n",
    "def inspect_h5(h5_path, max_print=5):\n",
    "    \"\"\"\n",
    "    Opens an HDF5 file, prints info about each dataset's name, shape, dtype,\n",
    "    and shows up to `max_print` values from each dataset. Also reports the\n",
    "    number of datasets and total number of entries.\n",
    "    \"\"\"\n",
    "    print(f\"Inspecting file: {h5_path}\\n\")\n",
    "    total_entries = 0\n",
    "    total_datasets = 0\n",
    "    \n",
    "    with h5py.File(h5_path, 'r') as f:\n",
    "        for key in f.keys():\n",
    "            total_datasets += 1\n",
    "            dset = f[key]\n",
    "            shape = dset.shape\n",
    "            dtype = dset.dtype\n",
    "            num_entries = np.prod(shape) if shape else 0\n",
    "            total_entries += num_entries\n",
    "            \n",
    "            print(f\"Dataset: '{key}'\")\n",
    "            print(f\"  - shape: {shape}\")\n",
    "            print(f\"  - dtype: {dtype}\")\n",
    "            print(f\"  - number of entries: {num_entries}\")\n",
    "\n",
    "            # Retrieve a small slice of data\n",
    "            data = dset[...]\n",
    "            n_to_show = min(max_print, data.shape[0]) if len(data.shape) > 0 else 0\n",
    "            # Print the first few entries for a quick look\n",
    "            print(\"  - sample values:\")\n",
    "            print(\"    \", data[n_to_show:], \"\\n\")\n",
    "\n",
    "def count_entries(h5_path, key_to_inspect):\n",
    "    \"\"\"\n",
    "    Opens an HDF5 file and counts the number of entries in a specific dataset key.\n",
    "    Assumes all keys have the same number of entries.\n",
    "    \n",
    "    Args:\n",
    "        h5_path (str): Path to the HDF5 file.\n",
    "        key_to_inspect (str): The dataset key to inspect for the number of entries.\n",
    "\n",
    "    Returns:\n",
    "        int: Number of entries in the specified dataset.\n",
    "    \"\"\"\n",
    "    with h5py.File(h5_path, 'r') as f:\n",
    "        if key_to_inspect in f.keys():\n",
    "            dset = f[key_to_inspect]\n",
    "            return dset.shape[0]\n",
    "        else:\n",
    "            raise KeyError(f\"Key '{key_to_inspect}' not found in the HDF5 file.\")"
   ]
  },
  {
   "cell_type": "code",
   "execution_count": null,
   "id": "5a75aed3-c5d0-483d-ac7d-e6b50f636a47",
   "metadata": {},
   "outputs": [
    {
     "name": "stdout",
     "output_type": "stream",
     "text": [
      "Number of entries: 2169177\n",
      "Inspecting file: ../data/crystallm/full/serialized/train.h5\n",
      "\n",
      "Dataset: 'cif_name'\n",
      "  - shape: (2169177,)\n",
      "  - dtype: object\n",
      "  - number of entries: 2169177\n"
     ]
    }
   ],
   "source": [
    "dataset_path = '../data/crystallm/full/serialized/train.h5'\n",
    "\n",
    "print(\"Number of entries:\", count_entries(dataset_path, key_to_inspect='cif_name'))\n",
    "inspect_h5(dataset_path, max_print=1)"
   ]
  },
  {
   "cell_type": "code",
   "execution_count": null,
   "id": "69edf072-ed1c-45d9-bb95-1d9fe6adaaaf",
   "metadata": {},
   "outputs": [],
   "source": [
    "dataset_path = '../data/combined/full/serialized/train.h5'\n",
    "\n",
    "print(\"Number of entries:\", count_entries(dataset_path, key_to_inspect='cif_name'))\n",
    "inspect_h5(dataset_path, max_print=1)"
   ]
  },
  {
   "cell_type": "code",
   "execution_count": null,
   "id": "e45d9ba2-a1c8-451b-843d-a1cc1d278bb5",
   "metadata": {},
   "outputs": [],
   "source": []
  }
 ],
 "metadata": {
  "kernelspec": {
   "display_name": "Python 3 (ipykernel)",
   "language": "python",
   "name": "python3"
  },
  "language_info": {
   "codemirror_mode": {
    "name": "ipython",
    "version": 3
   },
   "file_extension": ".py",
   "mimetype": "text/x-python",
   "name": "python",
   "nbconvert_exporter": "python",
   "pygments_lexer": "ipython3",
   "version": "3.9.20"
  }
 },
 "nbformat": 4,
 "nbformat_minor": 5
}

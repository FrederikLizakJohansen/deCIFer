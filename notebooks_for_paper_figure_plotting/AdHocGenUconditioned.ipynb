{
 "cells": [
  {
   "cell_type": "code",
   "execution_count": 3,
   "id": "0a2c097c-8417-484f-b50f-ba2d993405b9",
   "metadata": {},
   "outputs": [
    {
     "name": "stdout",
     "output_type": "stream",
     "text": [
      "number of total non-trainable parameters: 26.14M\n",
      "number of total trainable parameters: 27.72M\n",
      "number of total conditioning MLP parameters: 0.78M\n"
     ]
    }
   ],
   "source": [
    "import numpy as np\n",
    "import pandas as pd\n",
    "import torch\n",
    "\n",
    "from bin_refactored.evaluate import load_model_from_checkpoint\n",
    "from bin_refactored.train import TrainConfig\n",
    "from decifer_refactored.tokenizer import Tokenizer\n",
    "from decifer_refactored.decifer_model import Decifer\n",
    "from decifer_refactored.utility import (\n",
    "    reinstate_symmetry_loop,\n",
    "    replace_symmetry_loop_with_P1,\n",
    "    extract_space_group_symbol,\n",
    "    generate_continuous_xrd_from_cif,\n",
    "    discrete_to_continuous_xrd,\n",
    ")\n",
    "\n",
    "import warnings\n",
    "warnings.simplefilter(\"ignore\")\n",
    "\n",
    "device = torch.device('cuda' if torch.cuda.is_available() else 'cpu')\n",
    "model = load_model_from_checkpoint('../experiments/model__nocond__context_3076__robust/ckpt.pt', device)\n",
    "model.eval()\n",
    "\n",
    "encode = Tokenizer().encode\n",
    "decode = Tokenizer().decode\n",
    "padding_id = Tokenizer().padding_id"
   ]
  },
  {
   "cell_type": "code",
   "execution_count": 47,
   "id": "57549068-ec3d-4406-8659-396b1632a490",
   "metadata": {},
   "outputs": [],
   "source": [
    "prompt = torch.tensor(encode(['data_', 'Ca', '3', 'B', 'Ti', 'Ge', '3', 'O', '1', '2', '\\n'])).unsqueeze(0).to(device=model.device)"
   ]
  },
  {
   "cell_type": "code",
   "execution_count": 53,
   "id": "2a5c828a-edbe-4ebd-94d6-f404a3d08191",
   "metadata": {},
   "outputs": [
    {
     "data": {
      "application/vnd.jupyter.widget-view+json": {
       "model_id": "a788bd9bccb94fc3b6256de07f6da9e3",
       "version_major": 2,
       "version_minor": 0
      },
      "text/plain": [
       "Generating sequence:   0%|          | 0/3073 [00:00<?, ?it/s]"
      ]
     },
     "metadata": {},
     "output_type": "display_data"
    }
   ],
   "source": [
    "token_ids = model.generate_batched_reps(prompt, max_new_tokens=3073, cond_vec=None, start_indices_batch=[[0]]).cpu().numpy()"
   ]
  },
  {
   "cell_type": "code",
   "execution_count": 54,
   "id": "c93785ff-7378-4def-a8e1-256bcec373f3",
   "metadata": {},
   "outputs": [],
   "source": [
    "token_ids = [ids[ids != padding_id] for ids in token_ids]  # Remove padding tokens\n",
    "\n",
    "out_cif = decode(list(token_ids[0]))\n",
    "out_cif = replace_symmetry_loop_with_P1(out_cif)\n",
    "\n",
    "# Extract space group symbol from the CIF string\n",
    "spacegroup_symbol = extract_space_group_symbol(out_cif)\n",
    "\n",
    "# If the space group is not \"P1\", reinstate symmetry\n",
    "if spacegroup_symbol != \"P 1\":\n",
    "    out_cif = reinstate_symmetry_loop(out_cif, spacegroup_symbol)"
   ]
  },
  {
   "cell_type": "code",
   "execution_count": 55,
   "id": "bd5cdbd0-3d65-402c-9f28-fe604fd3da7c",
   "metadata": {},
   "outputs": [
    {
     "name": "stdout",
     "output_type": "stream",
     "text": [
      "data_Ca3BTiGe3O12\n",
      "loop_\n",
      "_atom_type_symbol\n",
      "_atom_type_electronegativity\n",
      "_atom_type_radius\n",
      "_atom_type_ionic_radius\n",
      "Ca 1.0000 1.8000 1.1400\n",
      "B 2.0400 0.8500 0.4100\n",
      "O 3.4400 0.6000 1.2600\n",
      "_symmetry_space_group_name_H-M P-62m\n",
      "_cell_length_a 8.3328\n",
      "_cell_length_b 8.3328\n",
      "_cell_length_c 3.7671\n",
      "_cell_angle_alpha 90.0000\n",
      "_cell_angle_beta 90.0000\n",
      "_cell_angle_gamma 120.0000\n",
      "_symmetry_Int_Tables_number 189\n",
      "_chemical_formula_structural CaBO4\n",
      "_chemical_formula_sum 'Ca3 B3 O12'\n",
      "_cell_volume 226.7012\n",
      "_cell_formula_units_Z 3\n",
      "loop_\n",
      " _symmetry_equiv_pos_site_id\n",
      " _symmetry_equiv_pos_as_xyz\n",
      "  1  'x-y, -y, z'\n",
      "  2  '-x, -x+y, -z'\n",
      "  3  'x, y, -z'\n",
      "  4  '-x+y, -x, z'\n",
      "  5  '-x+y, -x, -z'\n",
      "  6  '-y, x-y, z'\n",
      "  7  'x, y, z'\n",
      "  8  '-y, x-y, -z'\n",
      "  9  'y, x, z'\n",
      "  10  'x-y, -y, -z'\n",
      "  11  '-x, -x+y, z'\n",
      "  12  'y, x, -z'\n",
      "loop_\n",
      "_atom_site_type_symbol\n",
      "_atom_site_label\n",
      "_atom_site_symmetry_multiplicity\n",
      "_atom_site_fract_x\n",
      "_atom_site_fract_y\n",
      "_atom_site_fract_z\n",
      "_atom_site_occupancy\n",
      "Ca Ca0 3 0.0000 0.5996 0.5000 1.0000\n",
      "B B1 2 0.3333 0.6667 0.0000 1.0000\n",
      "B B2 1 0.0000 0.0000 0.5000 1.0000\n",
      "O O3 6 0.2062 0.4750 0.0000 1.0000\n",
      "O O4 3 0.0000 0.1768 0.5000 1.0000\n",
      "O O5 3 0.0000 0.7181 0.0000 1.0000\n",
      "\n"
     ]
    }
   ],
   "source": [
    "print(out_cif)"
   ]
  },
  {
   "cell_type": "code",
   "execution_count": null,
   "id": "fe186a27-87fd-483c-aa7d-61b39d7db3e8",
   "metadata": {},
   "outputs": [],
   "source": []
  }
 ],
 "metadata": {
  "kernelspec": {
   "display_name": "Python 3 (ipykernel)",
   "language": "python",
   "name": "python3"
  },
  "language_info": {
   "codemirror_mode": {
    "name": "ipython",
    "version": 3
   },
   "file_extension": ".py",
   "mimetype": "text/x-python",
   "name": "python",
   "nbconvert_exporter": "python",
   "pygments_lexer": "ipython3",
   "version": "3.9.20"
  }
 },
 "nbformat": 4,
 "nbformat_minor": 5
}
